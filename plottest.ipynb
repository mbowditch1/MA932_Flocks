{
 "cells": [
  {
   "cell_type": "code",
   "execution_count": 1,
   "id": "fac5f7bc-cc2a-422e-aad7-d63d0218f1be",
   "metadata": {
    "tags": []
   },
   "outputs": [],
   "source": [
    "import FlockModel\n",
    "import importlib\n",
    "import numpy as np\n",
    "import matplotlib.pyplot as plt\n",
    "import time"
   ]
  },
  {
   "cell_type": "code",
   "execution_count": null,
   "id": "14767ee3-07a0-44d1-9c05-d678ebfe402a",
   "metadata": {},
   "outputs": [
    {
     "name": "stdout",
     "output_type": "stream",
     "text": [
      "periodic 0 0.5\n",
      "periodic 0 1\n",
      "periodic 0 3\n",
      "periodic 0 10\n",
      "periodic 1 0.5\n",
      "periodic 1 1\n",
      "periodic 1 3\n",
      "periodic 1 10\n",
      "periodic 3 0.5\n",
      "periodic 3 1\n",
      "periodic 3 3\n",
      "periodic 3 10\n",
      "periodic 10 0.5\n",
      "periodic 10 1\n",
      "periodic 10 3\n",
      "periodic 10 10\n",
      "soft 0 0.5\n",
      "soft 0 1\n",
      "soft 0 3\n",
      "soft 0 10\n",
      "soft 1 0.5\n",
      "soft 1 1\n",
      "soft 1 3\n",
      "soft 1 10\n"
     ]
    },
    {
     "name": "stderr",
     "output_type": "stream",
     "text": [
      "/tmp/ipykernel_15513/2647327014.py:14: RuntimeWarning: More than 20 figures have been opened. Figures created through the pyplot interface (`matplotlib.pyplot.figure`) are retained until explicitly closed and may consume too much memory. (To control this warning, see the rcParam `figure.max_open_warning`). Consider using `matplotlib.pyplot.close()`.\n",
      "  fig3, ax3 = plt.subplots(2,2)\n"
     ]
    },
    {
     "name": "stdout",
     "output_type": "stream",
     "text": [
      "soft 3 0.5\n",
      "soft 3 1\n",
      "soft 3 3\n",
      "soft 3 10\n"
     ]
    }
   ],
   "source": [
    "importlib.reload(FlockModel)\n",
    "\n",
    "bcs = ['periodic','soft']\n",
    "preds = [0,1,3,10]\n",
    "densities = [0.5,1,3,10]\n",
    "noises = [0,0.05,0.2, 0.5]\n",
    "phenotypes = [[1,0,0],[0,1,0],[1,1,1],[0,1,1]]\n",
    "angles = [2*np.pi, np.pi, 0.5*np.pi, 0.1*np.pi]\n",
    "\n",
    "for bc in bcs:\n",
    "    for predators in preds:\n",
    "        fig1, ax1 = plt.subplots(2,2)\n",
    "        fig2, ax2 = plt.subplots(2,2)\n",
    "        fig3, ax3 = plt.subplots(2,2)\n",
    "        for ind,density in enumerate(densities):\n",
    "            print(bc,predators, density)\n",
    "            model = FlockModel.Model(bc=bc,predators=predators,density=density)\n",
    "            model.run()\n",
    "            model.order_plot(title='None',ax = ax1[ind//2,ind%2])\n",
    "            model.sus_plot(ax = ax2[ind//2,ind%2])\n",
    "            model.groups_plot(ax = ax3[ind//2,ind%2])\n",
    "            ax1[ind//2,ind%2].set_title('density = ' + str(density))\n",
    "            ax2[ind//2,ind%2].set_title('density = ' + str(density))\n",
    "            ax3[ind//2,ind%2].set_title('density = ' + str(density))\n",
    "        fig1.savefig('figures/' + bc+str(predators)+'density_order')\n",
    "        fig2.savefig('figures/' + bc+str(predators)+'density_sus')\n",
    "        fig3.savefig('figures/' + bc+str(predators)+'density_groups')\n",
    "\n",
    "for bc in bcs:\n",
    "    for predators in preds:\n",
    "        fig1, ax1 = plt.subplots(2,2)\n",
    "        fig2, ax2 = plt.subplots(2,2)\n",
    "        fig3, ax3 = plt.subplots(2,2)\n",
    "        for ind, noise in enumerate(noises):\n",
    "            print(bc,predators, noise)\n",
    "            model = FlockModel.Model(bc=bc,predators=predators,noise=noise)\n",
    "            model.run()\n",
    "            model.order_plot(title='None',ax = ax1[ind//2,ind%2])\n",
    "            model.sus_plot(ax = ax2[ind//2,ind%2])\n",
    "            model.groups_plot(ax = ax3[ind//2,ind%2])\n",
    "            ax1[ind//2,ind%2].set_title('noise = ' + str(noise))\n",
    "            ax2[ind//2,ind%2].set_title('noise = ' + str(noise))\n",
    "            ax3[ind//2,ind%2].set_title('noise = ' + str(noise))\n",
    "        fig1.savefig('figures/' + bc+str(predators)+'noise_order')\n",
    "        fig2.savefig('figures/' + bc+str(predators)+'noise_sus')\n",
    "        fig3.savefig('figures/' + bc+str(predators)+'noise_groups')\n",
    "        \n",
    "for bc in bcs:\n",
    "    for predators in preds:\n",
    "        fig1, ax1 = plt.subplots(2,2)\n",
    "        fig2, ax2 = plt.subplots(2,2)\n",
    "        fig3, ax3 = plt.subplots(2,2)\n",
    "        for ind, phenotype in enumerate(phenotypes):\n",
    "            print(bc,predators, phenotype)\n",
    "            model = FlockModel.Model(bc=bc,predators=predators,phenotype=phenotype)\n",
    "            model.run()\n",
    "            model.order_plot(title='None',ax = ax1[ind//2,ind%2])\n",
    "            model.sus_plot(ax = ax2[ind//2,ind%2])\n",
    "            model.groups_plot(ax = ax3[ind//2,ind%2])\n",
    "            ax1[ind//2,ind%2].set_title('phenotypes = ' + str(phenotype))\n",
    "            ax2[ind//2,ind%2].set_title('phenotype = ' + str(phenotype))\n",
    "            ax3[ind//2,ind%2].set_title('phenotype = ' + str(phenotype))\n",
    "        fig1.savefig('figures/' + bc+str(predators)+'pheno_order')\n",
    "        fig2.savefig('figures/' + bc+str(predators)+'pheno_sus')\n",
    "        fig3.savefig('figures/' + bc+str(predators)+'pheno_groups')\n",
    "        \n",
    "for bc in bcs:\n",
    "    for predators in preds:\n",
    "        fig1, ax1 = plt.subplots(2,2)\n",
    "        fig2, ax2 = plt.subplots(2,2)\n",
    "        fig3, ax3 = plt.subplots(2,2)\n",
    "        for ind, angle in enumerate(angles):\n",
    "            print(bc,predators, angle)\n",
    "            model = FlockModel.Model(bc=bc,predators=predators,phenotype=angle)\n",
    "            model.run()\n",
    "            model.order_plot(title='None',ax = ax1[ind//2,ind%2])\n",
    "            model.sus_plot(ax = ax2[ind//2,ind%2])\n",
    "            model.groups_plot(ax = ax3[ind//2,ind%2])\n",
    "            ax1[ind//2,ind%2].set_title('angle = ' + str(angle))\n",
    "            ax2[ind//2,ind%2].set_title('angle = ' + str(angle))\n",
    "            ax3[ind//2,ind%2].set_title('angle = ' + str(angle))\n",
    "        fig1.savefig('figures/' + bc+str(angle)+'angle_order')\n",
    "        fig2.savefig('figures/' + bc+str(angle)+'angle_sus')\n",
    "        fig3.savefig('figures/' + bc+str(angle)+'angle_groups')"
   ]
  },
  {
   "cell_type": "code",
   "execution_count": null,
   "id": "1fceaebe-1b06-4d5d-8092-070a13a3df28",
   "metadata": {
    "tags": []
   },
   "outputs": [],
   "source": [
    "fig, ax = plt.subplots(2,2)\n",
    "ax[1,1].plot([0,3],[0,3])\n",
    "fig.savefig('test')"
   ]
  },
  {
   "cell_type": "code",
   "execution_count": null,
   "id": "a31a49c5-a997-4a4b-aae6-c80348306126",
   "metadata": {},
   "outputs": [],
   "source": []
  }
 ],
 "metadata": {
  "kernelspec": {
   "display_name": "Python 3 (ipykernel)",
   "language": "python",
   "name": "python3"
  },
  "language_info": {
   "codemirror_mode": {
    "name": "ipython",
    "version": 3
   },
   "file_extension": ".py",
   "mimetype": "text/x-python",
   "name": "python",
   "nbconvert_exporter": "python",
   "pygments_lexer": "ipython3",
   "version": "3.9.12"
  }
 },
 "nbformat": 4,
 "nbformat_minor": 5
}
