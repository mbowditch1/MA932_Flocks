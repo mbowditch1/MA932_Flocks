{
 "cells": [
  {
   "cell_type": "code",
   "execution_count": 2,
   "id": "5f0d8fa5-44e6-4d22-8c68-7d60af72ca5b",
   "metadata": {
    "tags": []
   },
   "outputs": [],
   "source": [
    "import FlockModel\n",
    "import importlib\n",
    "import numpy as np\n",
    "import matplotlib.pyplot as plt\n",
    "import time"
   ]
  },
  {
   "cell_type": "markdown",
   "id": "0bd9ef7a",
   "metadata": {},
   "source": [
    "Viscek:\n",
    "Stated briefly as rules, and in $\\textbf{order of decreasing precedence}$, the behaviors that lead to simulated flocking are:\n",
    "1. Collision Avoidance: avoid collisions with nearby\n",
    "flockmates\n",
    "2. Velocity Matching: attempt to match velocity with nearby\n",
    "flockmates\n",
    "3. Flock Centering: attempt to stay close to nearby flockmates "
   ]
  },
  {
   "cell_type": "markdown",
   "id": "1535c5a6",
   "metadata": {},
   "source": [
    "# Show that increasing centralization, vc and angle increases convergence to order"
   ]
  },
  {
   "cell_type": "code",
   "execution_count": 5,
   "id": "82cb3245",
   "metadata": {
    "scrolled": false,
    "tags": []
   },
   "outputs": [
    {
     "data": {
      "text/plain": [
       "<Figure size 2400x1600 with 0 Axes>"
      ]
     },
     "metadata": {},
     "output_type": "display_data"
    },
    {
     "data": {
      "text/plain": [
       "<Figure size 2400x1600 with 0 Axes>"
      ]
     },
     "metadata": {},
     "output_type": "display_data"
    }
   ],
   "source": [
    "importlib.reload(FlockModel)\n",
    "\n",
    "align = [3]\n",
    "centering = [1]\n",
    "repulsion = [2]\n",
    "pred_repulsion = [5]\n",
    "pred_phenotype = [[1,0.25,1,1]]\n",
    "\n",
    "for a in align:\n",
    "    for c in centering:\n",
    "        for r1 in repulsion:\n",
    "            for r2 in pred_repulsion:\n",
    "                for pred_pheno in pred_phenotype:\n",
    "                    phenotype = [a,c,r1,r2,0.5]\n",
    "                    title = str(phenotype) + str(pred_pheno)\n",
    "                    model = FlockModel.Model(maxtime = 25, pred_phenotype = pred_pheno, dt = 0.25, noise = 0.05, L = 25, num_prey = 500, num_pred = 0, prey_phenotype = phenotype)\n",
    "                    model.run()\n",
    "                    model.animate(title = title)\n",
    "                    flock_size, exclusion_radius = model.clustering(n = 500, save = True,title = title + \" Clustering Plot\")\n",
    "                    model.order_plot(save = True)\n",
    "                    model.vel_plot(save = True)\n",
    "\n"
   ]
  },
  {
   "cell_type": "markdown",
   "id": "f5a4ab1a-881b-466e-8714-4e0a5446a0f8",
   "metadata": {},
   "source": [
    "# Milling"
   ]
  },
  {
   "cell_type": "code",
   "execution_count": null,
   "id": "d4253aaf-2349-4fd7-a4a2-b7cd44bf6ccf",
   "metadata": {},
   "outputs": [],
   "source": [
    "importlib.reload(FlockModel)\n",
    "\n",
    "model = FlockModel.Model(dt = 0.25, maxtime = 10, noise = 0.1, phenotype = [0,1,0], density=1, angle=2*np.pi, L=2, predators=0, bc=\"soft\", exc_r=0.05)\n",
    "st = time.time()\n",
    "model.run()\n",
    "et = time.time()\n",
    "print(\"Model elapsed time: \", et-st, \" seconds\")\n",
    "st = time.time()\n",
    "model.animate(name=\"correlation_test\")\n",
    "et = time.time()\n",
    "print(\"Animation elapsed time: \", et-st, \" seconds\")"
   ]
  },
  {
   "cell_type": "code",
   "execution_count": null,
   "id": "7d387219-9889-48f5-80ea-220c25987ef7",
   "metadata": {},
   "outputs": [],
   "source": [
    "importlib.reload(FlockModel)\n",
    "\n",
    "model = FlockModel.Model(dt = 0.1, maxtime = 40, noise = 0.1, phenotype = [0,1,0], density=8, angle=2*np.pi, L=4, predators=0, bc=\"soft\", exc_r=0.05)\n",
    "st = time.time()\n",
    "model.run()\n",
    "et = time.time()\n",
    "print(\"Model elapsed time: \", et-st, \" seconds\")\n",
    "st = time.time()\n",
    "model.animate(name=\"correlation_test\")\n",
    "et = time.time()\n",
    "print(\"Animation elapsed time: \", et-st, \" seconds\")"
   ]
  },
  {
   "cell_type": "markdown",
   "id": "ddeea233",
   "metadata": {},
   "source": [
    "# Clustering test"
   ]
  },
  {
   "cell_type": "code",
   "execution_count": null,
   "id": "6f142f5a-4230-403c-bcbf-00c0b7d4b475",
   "metadata": {},
   "outputs": [],
   "source": [
    "importlib.reload(FlockModel)\n",
    "\n",
    "model = FlockModel.Model(dt = 0.25, maxtime = 30, noise = 0.1, phenotype = [0,1,0], density=3, L=30, predators=0)\n",
    "st = time.time()\n",
    "model.run()\n",
    "et = time.time()\n",
    "print(\"Model elapsed time: \", et-st, \" seconds\")\n",
    "# model.animate(name=\"correlation_test\")"
   ]
  },
  {
   "cell_type": "code",
   "execution_count": null,
   "id": "4b524e55",
   "metadata": {},
   "outputs": [],
   "source": [
    "importlib.reload(FlockModel)\n",
    "\n",
    "model = FlockModel.Model(dt = 0.25, maxtime = 30, noise = 0.1, phenotype = [0,1,0], density=3, L=30, predators=0, bc=\"soft\")\n",
    "st = time.time()\n",
    "model.run()\n",
    "et = time.time()\n",
    "print(\"Model elapsed time: \", et-st, \" seconds\")\n",
    "model.animate(name=\"correlation_test\")"
   ]
  },
  {
   "cell_type": "code",
   "execution_count": null,
   "id": "5626fd0d",
   "metadata": {},
   "outputs": [],
   "source": [
    "model.animate_cluster_plot()"
   ]
  },
  {
   "cell_type": "markdown",
   "id": "7d90f2b8",
   "metadata": {},
   "source": [
    "# Connected correlation function test"
   ]
  },
  {
   "cell_type": "code",
   "execution_count": null,
   "id": "e02a9b91",
   "metadata": {
    "tags": []
   },
   "outputs": [],
   "source": [
    "importlib.reload(FlockModel)\n",
    "\n",
    "model = FlockModel.Model(dt = 0.25, maxtime = 20, noise = 0.1, phenotype = [0,1,0], density=1, L=10, predators=2, bc=\"soft\")\n",
    "st = time.time()\n",
    "model.run()\n",
    "et = time.time()\n",
    "print(\"Model elapsed time: \", et-st, \" seconds\")\n",
    "model.animate(name=\"correlation_test\")\n",
    "model.order_plot()\n",
    "# model.sus_plot()"
   ]
  },
  {
   "cell_type": "code",
   "execution_count": null,
   "id": "139d0f9b",
   "metadata": {
    "tags": []
   },
   "outputs": [],
   "source": [
    "model.quiver_plot(i=3)\n",
    "model.quiver_plot(i=9)\n",
    "model.vel_fluc_plot(i=3)\n",
    "model.vel_fluc_plot(i=9)\n",
    "model.corr_plot(i=3)\n",
    "model.corr_plot(i=9)"
   ]
  }
 ],
 "metadata": {
  "kernelspec": {
   "display_name": "Python 3 (ipykernel)",
   "language": "python",
   "name": "python3"
  },
  "language_info": {
   "codemirror_mode": {
    "name": "ipython",
    "version": 3
   },
   "file_extension": ".py",
   "mimetype": "text/x-python",
   "name": "python",
   "nbconvert_exporter": "python",
   "pygments_lexer": "ipython3",
   "version": "3.9.12"
  }
 },
 "nbformat": 4,
 "nbformat_minor": 5
}
