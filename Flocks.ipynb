{
 "cells": [
  {
   "cell_type": "code",
   "execution_count": 2,
   "id": "5f0d8fa5-44e6-4d22-8c68-7d60af72ca5b",
   "metadata": {
    "tags": []
   },
   "outputs": [],
   "source": [
    "import FlockModel"
   ]
  },
  {
   "cell_type": "markdown",
   "id": "0bd9ef7a",
   "metadata": {},
   "source": [
    "Viscek:\n",
    "Stated briefly as rules, and in $\\textbf{order of decreasing precedence}$, the behaviors that lead to simulated flocking are:\n",
    "1. Collision Avoidance: avoid collisions with nearby\n",
    "flockmates\n",
    "2. Velocity Matching: attempt to match velocity with nearby\n",
    "flockmates\n",
    "3. Flock Centering: attempt to stay close to nearby flockmates "
   ]
  },
  {
   "cell_type": "code",
   "execution_count": null,
   "id": "82cb3245",
   "metadata": {
    "tags": []
   },
   "outputs": [],
   "source": [
    "phenotypes = [\"4\"]\n",
    "angles = [np.pi, np.pi/2, np.pi/3, np.pi/4]\n",
    "\n",
    "for angle in angles:\n",
    "    for phenotype in phenotypes:\n",
    "        model = Model(dt = 0.1, maxtime = 100, noise = 0.01, phenotype = phenotype, angle = angle)\n",
    "        model.run(), \n",
    "        model.animate(name = str(phenotype) + str(angle))"
   ]
  },
  {
   "cell_type": "markdown",
   "id": "359fec18",
   "metadata": {},
   "source": [
    "${\\displaystyle \\operatorname {distance} (P_{1},P_{2},(x_{0},y_{0}))={\\frac {|(x_{2}-x_{1})(y_{1}-y_{0})-(x_{1}-x_{0})(y_{2}-y_{1})|}{\\sqrt {(x_{2}-x_{1})^{2}+(y_{2}-y_{1})^{2}}}}.}$"
   ]
  },
  {
   "cell_type": "markdown",
   "id": "c27dcae3",
   "metadata": {},
   "source": [
    "# Create CSV of positions for blender (TEST)"
   ]
  },
  {
   "cell_type": "code",
   "execution_count": 49,
   "id": "a7fc9490",
   "metadata": {},
   "outputs": [],
   "source": [
    "phenotypes = [\"1\", \"2\", \"3\", \"4\", \"5\", \"6\", \"7\", \"8\", \"Viscek\", \"Random\"]\n",
    "for phenotype in phenotypes:\n",
    "\n",
    "    model = Model(dt = 0.25, maxtime = 100, noise = 0.01, phenotype = phenotype)\n",
    "    model.run(), \n",
    "    model.blender_csv()"
   ]
  },
  {
   "cell_type": "markdown",
   "id": "7d90f2b8",
   "metadata": {},
   "source": [
    "# Connected correlation function test"
   ]
  },
  {
   "cell_type": "code",
   "execution_count": 3,
   "id": "e02a9b91",
   "metadata": {},
   "outputs": [],
   "source": [
    "phenotypes = [\"Viscek\"]\n",
    "for phenotype in phenotypes:\n",
    "    model = FlockModel.Model(dt = 0.25, maxtime = 20, noise = 0.01, phenotype = phenotype, density=0.02)\n",
    "    model.run()\n",
    "    model.animate(name=\"correlation_test\")"
   ]
  },
  {
   "cell_type": "code",
   "execution_count": 18,
   "id": "cbdfcbb4",
   "metadata": {},
   "outputs": [
    {
     "name": "stdout",
     "output_type": "stream",
     "text": [
      "Velocities:\n",
      "[ 0.92109952 -0.38932721]\n",
      "[ 0.6407082  -0.76778448]\n",
      "[ 0.92552154 -0.37869497]\n",
      "[0.85677611 0.51568857]\n",
      "[0.86070294 0.5091075 ]\n",
      "\n",
      "Positions:\n",
      "[8.80871417 2.16420908]\n",
      "[9.5266738  3.11498382]\n",
      "[8.04743847 1.88985906]\n",
      "[3.22407221 4.98044335]\n",
      "[2.85682943 4.63826681]\n",
      "\n",
      "Average velocity\n",
      "[ 0.84096166 -0.10220212]\n",
      "\n",
      "Dimensionless velocity fluctuation\n",
      "[ 0.28383638 -1.01695443]\n",
      "[-0.70926801 -2.35739383]\n",
      "[ 0.29949853 -0.97929659]\n",
      "[0.05601242 2.18847702]\n",
      "[0.06992068 2.16516784]\n"
     ]
    }
   ],
   "source": [
    "# Get velocities and positions at a certain point\n",
    "vel = []\n",
    "dim_vel = []\n",
    "pos = []\n",
    "frame = 100\n",
    "\n",
    "for a in model.agents:\n",
    "    vel.append(a.vel[frame])\n",
    "    pos.append(a.pos[frame])\n",
    "\n",
    "print(\"Velocities:\")\n",
    "for v in vel:\n",
    "    print(v)\n",
    "\n",
    "print()\n",
    "print(\"Positions:\")\n",
    "for p in pos:\n",
    "    print(p)\n",
    "\n",
    "print()\n",
    "print(\"Average velocity\")\n",
    "avg_vel = sum(vel)/len(vel)\n",
    "print(avg_vel)\n",
    "\n",
    "print()\n",
    "print(\"Dimensionless velocity fluctuation\")\n",
    "denom = sum([np.linalg.norm(v-avg_vel)**2 for v in vel])/len(vel)\n",
    "dim_vel = [(v-avg_vel)/denom for v in vel]\n",
    "for v in dim_vel:\n",
    "    print(v)"
   ]
  },
  {
   "cell_type": "code",
   "execution_count": 9,
   "id": "57785fd0",
   "metadata": {},
   "outputs": [
    {
     "name": "stdout",
     "output_type": "stream",
     "text": [
      "<bound method Agent.update_pos of <FlockModel.Predator object at 0x7f58fc695340>>\n"
     ]
    }
   ],
   "source": [
    "pred = FlockModel.Predator()\n",
    "print(pred.update_pos)"
   ]
  },
  {
   "cell_type": "code",
   "execution_count": null,
   "id": "ef574fd7",
   "metadata": {},
   "outputs": [],
   "source": []
  }
 ],
 "metadata": {
  "kernelspec": {
   "display_name": "Python 3 (ipykernel)",
   "language": "python",
   "name": "python3"
  },
  "language_info": {
   "codemirror_mode": {
    "name": "ipython",
    "version": 3
   },
   "file_extension": ".py",
   "mimetype": "text/x-python",
   "name": "python",
   "nbconvert_exporter": "python",
   "pygments_lexer": "ipython3",
   "version": "3.9.12"
  }
 },
 "nbformat": 4,
 "nbformat_minor": 5
}
