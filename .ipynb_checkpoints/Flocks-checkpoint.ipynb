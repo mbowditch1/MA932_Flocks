{
 "cells": [
  {
   "cell_type": "code",
   "execution_count": 74,
   "id": "5f0d8fa5-44e6-4d22-8c68-7d60af72ca5b",
   "metadata": {
    "tags": []
   },
   "outputs": [],
   "source": [
    "import numpy as np\n",
    "import matplotlib.pyplot as plt\n",
    "import math\n",
    "import imageio\n",
    "import os"
   ]
  },
  {
   "cell_type": "code",
   "execution_count": 116,
   "id": "f347c1a3-ccde-4b5f-9f6c-dd828028d5ef",
   "metadata": {
    "tags": []
   },
   "outputs": [],
   "source": [
    "class Model:\n",
    "    def __init__(self, dt = 1, num_agents = 100, maxtime = 100, radius = 1, L = 20, noise = 0.1):\n",
    "        self.dt = dt\n",
    "        self.num_agents = num_agents\n",
    "        self.maxtime = maxtime\n",
    "        self.r = radius # sam fix, put as an input of agents \n",
    "        self.curr_time = 0\n",
    "        self.L = L\n",
    "        \n",
    "        positions = [np.random.uniform(0,L,2) for x in range(num_agents)]\n",
    "        velocities = [np.random.uniform(-1,1,2) for x in range(num_agents)]\n",
    "        self.agents = [Agent(pos = x, vel = velocities[i], noise = noise) for i,x in enumerate(positions)]\n",
    "        \n",
    "    def run(self):\n",
    "        while self.curr_time < self.maxtime:\n",
    "            self.step()\n",
    "            self.curr_time += self.dt\n",
    "    \n",
    "    def step(self):\n",
    "        positions = [x.pos[-1] for x in self.agents]\n",
    "        velocities = [x.vel[-1] for x in self.agents]\n",
    "        for a in self.agents:\n",
    "            # nearby_pos = [x for x in positions if (math.dist(x,a.pos[-1])<self.r and not np.array_equal(x,a.pos[-1]))] #coneify, dont need not current agent\n",
    "            nearby_pos = [x for x in positions if math.dist(x,a.pos[-1])<self.r]\n",
    "            # nearby_vel = [v for i,v in enumerate(velocities) if (math.dist(positions[i],a.pos[-1])<self.r and not np.array_equal(positions[i], a.pos[-1]))]\n",
    "            nearby_vel = [v for i,v in enumerate(velocities) if math.dist(positions[i],a.pos[-1])<self.r]\n",
    "            a.update_pos(self.dt, nearby_pos,nearby_vel)\n",
    "            a.pos[-1] = a.pos[-1] % self.L # add other BC later\n",
    "    \n",
    "    def quiver_plot(self,i = -1, animate = False):\n",
    "        positions = [x.pos[i] for x in self.agents]\n",
    "        velocities = [x.vel[i] for x in self.agents]\n",
    "        xs = [x[0] for x in positions]\n",
    "        ys = [y[1] for y in positions]\n",
    "        us = [u[0] for u in velocities]\n",
    "        vs = [v[1] for v in velocities]\n",
    "        plt.figure()\n",
    "        plt.quiver(xs,ys,us,vs)\n",
    "        plt.xlim([0,self.L])\n",
    "        plt.ylim([0,self.L])\n",
    "        if animate:\n",
    "            plt.savefig('data/' + str(i)+'.png')\n",
    "            plt.close()\n",
    "        else:\n",
    "            plt.show()\n",
    "        \n",
    "    def animate(self):\n",
    "        entries = os.listdir('data/')\n",
    "        for filename in entries:\n",
    "            os.remove('data/' + filename)\n",
    "        for i in range(len(self.agents[0].pos)):\n",
    "            self.quiver_plot(i, True)\n",
    "        entries = os.listdir('data/')\n",
    "        entries = [int(x[:-4]) for x in entries]\n",
    "        entries.sort()\n",
    "        with imageio.get_writer('mygif.gif', mode='I') as writer:\n",
    "            for i, filename in enumerate(entries):\n",
    "                if i == 0:\n",
    "                    for j in range(20):\n",
    "                        image = imageio.imread('data/' + str(filename) + '.png')\n",
    "                        writer.append_data(image)\n",
    "                image = imageio.imread('data/' + str(filename) + '.png')\n",
    "                writer.append_data(image)\n",
    "                    \n",
    "                \n",
    "class Agent:\n",
    "    def __init__(self, pos = [0,0], vel = [1,1], noise = 0.1):\n",
    "        self.pos = [pos]\n",
    "        self.vel = [vel]\n",
    "        self.noise = noise\n",
    "        \n",
    "    def update_pos(self,dt, nearby_pos, nearby_vel):\n",
    "        new_vel = [np.mean([a[0] for a in nearby_vel]) + np.random.normal(0, self.noise), np.mean([a[1] for a in nearby_vel]) + np.random.normal(0, self.noise)]   # sam to fix\n",
    "        self.vel.append(-new_vel/np.linalg.norm(new_vel))\n",
    "        self.pos.append(self.pos[-1] + dt*self.vel[-1])\n",
    "        \n",
    "x = Agent([1,1])"
   ]
  },
  {
   "cell_type": "code",
   "execution_count": 119,
   "id": "2c594822-dad3-46c5-98d2-7547e715ee28",
   "metadata": {
    "tags": []
   },
   "outputs": [],
   "source": [
    "model = Model(dt = 1,maxtime = 1000, noise = 0.05)\n",
    "model.run()\n",
    "#model.quiver_plot()\n",
    "model.animate()"
   ]
  },
  {
   "cell_type": "markdown",
   "id": "cb3b8e28-0054-4fce-b5d0-730634fa22c8",
   "metadata": {
    "tags": []
   },
   "source": [
    "![SegmentLocal](mygif.gif \"segment\")"
   ]
  }
 ],
 "metadata": {
  "kernelspec": {
   "display_name": "Python 3 (ipykernel)",
   "language": "python",
   "name": "python3"
  },
  "language_info": {
   "codemirror_mode": {
    "name": "ipython",
    "version": 3
   },
   "file_extension": ".py",
   "mimetype": "text/x-python",
   "name": "python",
   "nbconvert_exporter": "python",
   "pygments_lexer": "ipython3",
   "version": "3.9.12"
  }
 },
 "nbformat": 4,
 "nbformat_minor": 5
}
